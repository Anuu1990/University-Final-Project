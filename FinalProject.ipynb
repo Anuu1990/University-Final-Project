{
 "cells": [
  {
   "cell_type": "code",
   "execution_count": null,
   "metadata": {},
   "outputs": [
    {
     "data": {
      "text/plain": [
       "Traceback (most recent call last):\n",
       "  File \"c:\\Users\\hp\\.vscode\\extensions\\ms-python.python-2024.16.1-win32-x64\\python_files\\python_server.py\", line 130, in exec_user_input\n",
       "    retval = callable_(user_input, user_globals)\n",
       "  File \"<string>\", line 8, in <module>\n",
       "ModuleNotFoundError: No module named 'pandas'\n",
       "\n"
      ]
     },
     "metadata": {},
     "output_type": "display_data"
    }
   ],
   "source": [
    "# Data file Electricity_20-09-2024.csv contains information about hourly electricity consumption (column Energy (kWh)) and Temperature.\n",
    "# Another file sahkon-hinta-010121-240924.csv contains information about hourly electricity prices.\n",
    "\n",
    "# First complete the following tasks\n",
    "\n",
    "# - Change time format of both files to Pandas datetime\n",
    "\n",
    "import pandas as pd\n",
    "\n",
    "\n",
    "# Load the CSV file again with the correct delimiter\n",
    "df_electricity = pd.read_csv(\"./Electricity_20-09-2024.csv\", delimiter=';')\n",
    "df_price = pd.read_csv(\"./sahkon-hinta-010121-240924.csv\")\n",
    "\n",
    "# Rename the columns for easier access and clean-up\n",
    "df_electricity.columns = [\n",
    "    'Time', 'Energy (kWh)', 'Energy night (kWh)', 'Energy day (kWh)', 'Temperature']\n",
    "\n",
    "df_electricity['Energy (kWh)'] = df_electricity['Energy (kWh)'].str.replace(\n",
    "    ',', '.').astype(float)\n",
    "df_electricity['Energy night (kWh)'] = df_electricity['Energy night (kWh)'].str.replace(\n",
    "    ',', '.').astype(float)\n",
    "df_electricity['Energy day (kWh)'] = df_electricity['Energy day (kWh)'].str.replace(\n",
    "    ',', '.').astype(float)\n",
    "df_electricity['Temperature'] = df_electricity['Temperature'].str.replace(\n",
    "    ',', '.').astype(float)\n",
    "\n",
    "df_price.columns = ['Time', 'Price(cent/kWh)']\n",
    "\n",
    "# Convert 'Time' column to datetime\n",
    "df_electricity['Time'] = pd.to_datetime(pd.to_datetime(\n",
    "    df_electricity['Time'].str.strip(), format='%d.%m.%Y %H:%M', errors='coerce'))\n",
    "\n",
    "df_price['Time'] = pd.to_datetime(df_price['Time'], format='%d-%m-%Y %H:%M:%S')\n",
    "\n",
    "\n",
    "# Merge the data frames on the 'Time' column\n",
    "df_merged = pd.merge(df_electricity, df_price, on='Time', how='inner')\n",
    "\n",
    "# # Calculate the hourly bill\n",
    "df_merged['Hourly Bill (€)'] = (df_merged['Energy (kWh)'] *\n",
    "                                (df_merged['Price(cent/kWh)'] / 100)).round(2)\n",
    "\n",
    "\n",
    "# Convert 'Time' column to datetime for proper grouping\n",
    "df_merged['Time'] = pd.to_datetime(df_merged['Time'])\n",
    "\n",
    "\n",
    "# # Add columns for grouping (day, week, month)\n",
    "# df_merged['Day'] = df_merged['Time'].dt.day\n",
    "# # df_merged['Day'] = df_merged['Time'].dt.strftime('%Y-%m-%d')\n",
    "# df_merged['Week'] = df_merged['Time'].dt.isocalendar().week\n",
    "# df_merged['Year'] = df_merged['Time'].dt.isocalendar().year\n",
    "# df_merged['Month'] = df_merged['Time'].dt.month\n",
    "\n",
    "display(df_merged.head(10))"
   ]
  },
  {
   "cell_type": "code",
   "execution_count": 125,
   "metadata": {},
   "outputs": [
    {
     "name": "stdout",
     "output_type": "stream",
     "text": [
      "Daily Consumption and Hourly Bill in Euro of each day:\n",
      "           Time  Energy (kWh)  Hourly Bill (€)  Price(cent/kWh)  Temperature\n",
      "0    2021-01-01        36.701             1.19         3.255167    -3.154167\n",
      "1    2021-01-02        43.606             1.78         4.068750    -5.029167\n",
      "2    2021-01-03        59.927             1.96         3.202458    -9.512500\n",
      "3    2021-01-04        77.953             4.17         5.376833   -17.733333\n",
      "4    2021-01-05        74.834             4.29         5.863458   -15.966667\n",
      "...         ...           ...              ...              ...          ...\n",
      "1356 2024-09-18        22.980             1.44         6.594417    12.437500\n",
      "1357 2024-09-19        25.537             2.09         7.115625    14.195833\n",
      "1358 2024-09-20        25.451             1.60         9.101792    13.033333\n",
      "1359 2024-09-21        23.151             1.10         2.683917     9.029167\n",
      "1360 2024-09-22         2.126             0.20        12.233750     4.445833\n",
      "\n",
      "[1361 rows x 5 columns]\n"
     ]
    }
   ],
   "source": [
    "# Group by daily, weekly, and monthly using resample\n",
    "daily_hourly_bill = df_merged.groupby(pd.Grouper(key='Time', freq='d')).agg({\n",
    "    'Energy (kWh)': 'sum',\n",
    "    'Hourly Bill (€)': 'sum',\n",
    "    'Price(cent/kWh)': 'mean',\n",
    "    'Temperature': 'mean'\n",
    "}).reset_index()\n",
    "\n",
    "# Display the results grouped by Year-Month-Week\n",
    "print(\"Daily Consumption and Hourly Bill in Euro of each day:\")\n",
    "\n",
    "print(daily_hourly_bill)"
   ]
  },
  {
   "cell_type": "code",
   "execution_count": 123,
   "metadata": {},
   "outputs": [
    {
     "name": "stdout",
     "output_type": "stream",
     "text": [
      "Weekly Consumption and Hourly Bill in Euro for every week:\n",
      "          Time  Energy (kWh)  Hourly Bill (€)  Price(cent/kWh)  Temperature\n",
      "0   2021-01-03       140.234             4.93         3.508792    -5.898611\n",
      "1   2021-01-10       493.781            31.54         6.615589   -12.223810\n",
      "2   2021-01-17       541.564            39.11         7.240702   -14.236310\n",
      "3   2021-01-24       483.176            27.68         5.856375    -7.154167\n",
      "4   2021-01-31       480.021            32.51         6.912179    -6.983333\n",
      "..         ...           ...              ...              ...          ...\n",
      "190 2024-08-25       183.244             1.44         0.754625    15.472024\n",
      "191 2024-09-01       114.578             0.56         0.826893    15.085119\n",
      "192 2024-09-08       176.551             6.55         5.606542    15.952381\n",
      "193 2024-09-15       141.662             9.32         9.133482    14.388690\n",
      "194 2024-09-22       144.462            13.29        10.767696    10.519048\n",
      "\n",
      "[195 rows x 5 columns]\n"
     ]
    }
   ],
   "source": [
    "weekly_hourly_bill = df_merged.groupby(pd.Grouper(key='Time', freq='W')).agg({\n",
    "    'Energy (kWh)': 'sum',\n",
    "    'Hourly Bill (€)': 'sum',\n",
    "    'Price(cent/kWh)': 'mean',\n",
    "    'Temperature': 'mean'\n",
    "}).reset_index()\n",
    "\n",
    "# Display the results grouped by Year-Month-Week\n",
    "print(\"Weekly Consumption and Hourly Bill in Euro for every week:\")\n",
    "\n",
    "print(weekly_hourly_bill)"
   ]
  },
  {
   "cell_type": "code",
   "execution_count": 124,
   "metadata": {},
   "outputs": [
    {
     "name": "stdout",
     "output_type": "stream",
     "text": [
      "Monthly Consumption and Hourly Bill in Euro of each Month:\n",
      "         Time  Energy (kWh)  Hourly Bill (€)  Price(cent/kWh)  Temperature\n",
      "0  2021-01-31      2138.776           135.77         6.351622    -9.738038\n",
      "1  2021-02-28      1999.589           143.11         7.084027   -12.777381\n",
      "2  2021-03-31      1554.240            74.60         4.755227    -3.680619\n",
      "3  2021-04-30      1060.946            45.81         4.558654     2.035833\n",
      "4  2021-05-31       960.209            52.29         5.696895     7.734812\n",
      "5  2021-06-30       487.973            32.43         6.963349    16.182361\n",
      "6  2021-07-31       662.879            58.21         9.765914    18.566935\n",
      "7  2021-08-31       686.614            54.49         8.456485    13.500672\n",
      "8  2021-09-30      1020.821           106.75        11.069868     7.390694\n",
      "9  2021-10-31      1249.997            94.58         8.038060     4.971486\n",
      "10 2021-11-30      1660.833           197.41        10.651190    -2.793750\n",
      "11 2021-12-31      1664.150           418.63        23.979406    -9.357470\n",
      "12 2022-01-31      1429.884           186.87        13.231460    -7.663306\n",
      "13 2022-02-28      1359.682           130.91        10.049278    -7.062798\n",
      "14 2022-03-31      1236.372           125.94        10.724098    -2.575505\n",
      "15 2022-04-30       967.393            85.70         9.840287     0.678333\n",
      "16 2022-05-31       837.750           118.61        16.450198     8.051882\n",
      "17 2022-06-30       549.607            83.69        17.372717    14.995139\n",
      "18 2022-07-31       275.609            51.24        22.832741    16.828898\n",
      "19 2022-08-31       529.950           139.19        32.425331    15.422446\n",
      "20 2022-09-30       738.840           175.00        26.657200     8.260556\n",
      "21 2022-10-31       904.701           118.06        14.039269     4.671888\n",
      "22 2022-11-30      1218.639           296.88        24.217750    -1.618750\n",
      "23 2022-12-31      1523.039           389.51        27.058077    -6.174462\n",
      "24 2023-01-31      1469.418           122.86         8.663565    -3.844489\n",
      "25 2023-02-28      1247.309           104.80         8.814318    -5.812798\n",
      "26 2023-03-31      1555.686           122.23         8.158502    -7.046164\n",
      "27 2023-04-30      1046.005            66.85         6.660943     0.931944\n",
      "28 2023-05-31       811.693            29.90         3.306161     8.920833\n",
      "29 2023-06-30       544.971            23.02         5.382899    14.838472\n",
      "30 2023-07-31       360.796            11.54         4.091331    15.672312\n",
      "31 2023-08-31       667.572            48.22         8.243069    15.990457\n",
      "32 2023-09-30       732.044            22.10         4.072485    12.100417\n",
      "33 2023-10-31      1287.668            51.26         4.672337    -0.362383\n",
      "34 2023-11-30      1522.042           122.95         8.806940    -4.888750\n",
      "35 2023-12-31      1922.527           184.31         9.453750    -8.208871\n",
      "36 2024-01-31      2133.366           280.93        13.171495   -13.704570\n",
      "37 2024-02-29      1540.912           104.28         6.397569    -7.652299\n",
      "38 2024-03-31      1340.239            93.53         7.363744    -2.132301\n",
      "39 2024-04-30      1285.945            76.39         6.068688     0.044028\n",
      "40 2024-05-31       754.928            27.88         4.362091     9.992876\n",
      "41 2024-06-30       389.965            15.90         4.478865    15.669861\n",
      "42 2024-07-31       504.713             8.09         2.085347    17.384005\n",
      "43 2024-08-31       642.981             8.17         1.567181    15.966667\n",
      "44 2024-09-30       480.022            29.37         8.164771    13.701894\n"
     ]
    }
   ],
   "source": [
    "monthly_hourly_bill = df_merged.groupby(pd.Grouper(key='Time', freq='ME')).agg({\n",
    "    'Energy (kWh)': 'sum',\n",
    "    'Hourly Bill (€)': 'sum',\n",
    "    'Price(cent/kWh)': 'mean',\n",
    "    'Temperature': 'mean'\n",
    "}).reset_index()\n",
    "\n",
    "# Display the results grouped by Year-Month-Week\n",
    "print(\"Monthly Consumption and Hourly Bill in Euro of each Month:\")\n",
    "\n",
    "print(monthly_hourly_bill)"
   ]
  },
  {
   "cell_type": "code",
   "execution_count": null,
   "metadata": {},
   "outputs": [
    {
     "data": {
      "text/plain": [
       "Traceback (most recent call last):\n",
       "  File \"c:\\Users\\hp\\.vscode\\extensions\\ms-python.python-2024.16.1-win32-x64\\python_files\\python_server.py\", line 130, in exec_user_input\n",
       "    retval = callable_(user_input, user_globals)\n",
       "  File \"<string>\", line 1, in <module>\n",
       "NameError: name 'pd' is not defined\n",
       "\n"
      ]
     },
     "metadata": {},
     "output_type": "display_data"
    }
   ],
   "source": [
    "df_price_data = pd.read_excel(\n",
    "    \"download_sahkon-hinta-010121-311024.xlsx\", delimiter=';')\n",
    "\n",
    "print('new price data')\n",
    "display(df_price_data.head(100))"
   ]
  }
 ],
 "metadata": {
  "kernelspec": {
   "display_name": "Python 3",
   "language": "python",
   "name": "python3"
  },
  "language_info": {
   "codemirror_mode": {
    "name": "ipython",
    "version": 3
   },
   "file_extension": ".py",
   "mimetype": "text/x-python",
   "name": "python",
   "nbconvert_exporter": "python",
   "pygments_lexer": "ipython3",
   "version": "3.12.4"
  }
 },
 "nbformat": 4,
 "nbformat_minor": 2
}
